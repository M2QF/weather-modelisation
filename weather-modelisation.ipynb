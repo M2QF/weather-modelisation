{
 "cells": [
  {
   "cell_type": "markdown",
   "metadata": {},
   "source": [
    "# Students\n",
    "- GHAITH Sarahnour (M2QF & ENSIIE)\n",
    "- ROISEUX Thomas (M2QF & ENSIIE)\n",
    "\n",
    "# Introduction\n",
    "## Context\n",
    "\n",
    "The goal of this project is to study \n",
    "the temporal evolution of temperature and wind in France, across one year.\n",
    "\n",
    "## Required packages\n",
    "- `pandas` : to manipulate dataframes.\n",
    "- `numpy` : to manipulate arrays.\n",
    "- `matplotlib` : to plot graphs.\n",
    "- `cartopy` : to plot maps.\n",
    "- `IPython` : to display dataframes in Jupyter Notebook."
   ]
  },
  {
   "cell_type": "code",
   "execution_count": null,
   "metadata": {},
   "outputs": [],
   "source": [
    "import pandas as pd\n",
    "import numpy as np\n",
    "import matplotlib.pyplot as plt\n",
    "import cartopy.crs as ccrs\n",
    "import cartopy.feature as cfeature\n",
    "\n",
    "from IPython.display import display"
   ]
  },
  {
   "cell_type": "markdown",
   "metadata": {},
   "source": [
    "## Data importation"
   ]
  },
  {
   "cell_type": "code",
   "execution_count": null,
   "metadata": {},
   "outputs": [],
   "source": [
    "temp_df = pd.read_csv(\"dataTemp.csv\", header=None, sep=\";\", index_col=0)\n",
    "temp_df.index.name = \"ID\"\n",
    "wind_df = pd.read_csv(\"dataWind.csv\", header=None, sep=\";\", index_col=0)\n",
    "wind_df.index.name = \"ID\"\n",
    "gps_df = pd.read_csv(\"dataGPS.csv\", header=None, sep=\";\", index_col=0)"
   ]
  }
 ],
 "metadata": {
  "kernelspec": {
   "display_name": "Python 3",
   "language": "python",
   "name": "python3"
  },
  "language_info": {
   "codemirror_mode": {
    "name": "ipython",
    "version": 3
   },
   "file_extension": ".py",
   "mimetype": "text/x-python",
   "name": "python",
   "nbconvert_exporter": "python",
   "pygments_lexer": "ipython3",
   "version": "3.11.5"
  }
 },
 "nbformat": 4,
 "nbformat_minor": 2
}
