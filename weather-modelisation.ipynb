{
 "cells": [
  {
   "cell_type": "markdown",
   "metadata": {},
   "source": [
    "# Students\n",
    "- GHAITH Sarahnour (M2QF & ENSIIE)\n",
    "- ROISEUX Thomas (M2QF & ENSIIE)\n",
    "\n",
    "# Introduction\n",
    "## Context\n",
    "\n",
    "The goal of this project is to study \n",
    "the temporal evolution of temperature and wind in France, across one year.\n",
    "\n",
    "## Required packages\n",
    "- `pandas` : to manipulate dataframes.\n",
    "- `numpy` : to manipulate arrays.\n",
    "- `matplotlib` : to plot graphs.\n",
    "- `cartopy` : to plot maps.\n",
    "- `IPython` : to display dataframes in Jupyter Notebook.\n",
    "- `scikit-learn` : to use machine learning algorithms."
   ]
  },
  {
   "cell_type": "code",
   "execution_count": null,
   "metadata": {},
   "outputs": [],
   "source": [
    "import pandas as pd\n",
    "import numpy as np\n",
    "import matplotlib.pyplot as plt\n",
    "import cartopy.crs as ccrs\n",
    "import cartopy.feature as cfeature\n",
    "from datetime import datetime, timedelta\n",
    "from typing import Dict\n",
    "\n",
    "from IPython.display import display\n",
    "\n",
    "from sklearn.cluster import KMeans, AgglomerativeClustering"
   ]
  },
  {
   "cell_type": "markdown",
   "metadata": {},
   "source": [
    "## Data importation\n",
    "### Preparing GPS dataframe"
   ]
  },
  {
   "cell_type": "code",
   "execution_count": null,
   "metadata": {},
   "outputs": [],
   "source": [
    "gps_df = pd.read_csv(\"dataGPS.csv\", header=None, sep=\";\")\n",
    "gps_df.columns = [\"Temp ID\", \"Lattitude\", \"Longitude\"]\n",
    "gps_df.insert(1, \"Wind ID\", gps_df[\"Temp ID\"].str.replace(\"TEMP\", \"VVENT\"))\n",
    "\n",
    "display(gps_df.head())"
   ]
  },
  {
   "cell_type": "markdown",
   "metadata": {},
   "source": [
    "### Preparing temperature dataframe and wind dataframe"
   ]
  },
  {
   "cell_type": "code",
   "execution_count": null,
   "metadata": {},
   "outputs": [],
   "source": [
    "year = 2019\n",
    "hours = [datetime(year, 1, 1, 0, 0, 0) + timedelta(hours=i) for i in range(8760)]"
   ]
  },
  {
   "cell_type": "code",
   "execution_count": null,
   "metadata": {},
   "outputs": [],
   "source": [
    "temp_df = pd.read_csv(\"dataTemp.csv\", header=None, sep=\";\", index_col=0)\n",
    "temp_df.index.name = \"Temperature ID\"\n",
    "temp_df.columns = hours\n",
    "\n",
    "\n",
    "display(temp_df.head())\n",
    "\n",
    "\n",
    "wind_df = pd.read_csv(\"dataWind.csv\", header=None, sep=\";\", index_col=0)\n",
    "wind_df.index.name = \"Wind ID\"\n",
    "wind_df.columns = hours\n",
    "\n",
    "\n",
    "display(wind_df.head())"
   ]
  },
  {
   "cell_type": "markdown",
   "metadata": {},
   "source": [
    "## Example: weather in Paris\n",
    "We are goinng to study the weather in Paris, the capital of France, as an example.\n",
    "It is located at 48.51° N, 2.21° E.\n",
    "\n",
    "Let's firstplace in on a map."
   ]
  },
  {
   "cell_type": "code",
   "execution_count": null,
   "metadata": {},
   "outputs": [],
   "source": [
    "fig = plt.figure(figsize=(20, 10))\n",
    "ax = fig.add_subplot(1, 2, 1, projection=ccrs.PlateCarree())\n",
    "ax.set_extent([-5, 9, 42, 52])\n",
    "ax.set_title(\"France\")\n",
    "ax.stock_img()\n",
    "\n",
    "x, y = 2.217999, 48.512381\n",
    "ax.plot(x, y, \"r*\", markersize=15)\n",
    "ax.text(x, y, \"Paris\")\n",
    "plt.show()"
   ]
  },
  {
   "cell_type": "markdown",
   "metadata": {},
   "source": [
    "Now, we are going to plot the evolution of temperature and wind in Paris, across one year."
   ]
  },
  {
   "cell_type": "code",
   "execution_count": null,
   "metadata": {},
   "outputs": [],
   "source": [
    "plt.figure(figsize=(20, 10))\n",
    "plt.title(\"Temperature in Paris\")\n",
    "plt.plot(temp_df.columns, temp_df.iloc[33, :], color=\"blue\")\n",
    "plt.show()"
   ]
  },
  {
   "cell_type": "code",
   "execution_count": null,
   "metadata": {},
   "outputs": [],
   "source": [
    "plt.figure(figsize=(20, 10))\n",
    "plt.title(\"Wind in Paris\")\n",
    "plt.plot(wind_df.columns, wind_df.iloc[33, :], color=\"blue\")\n",
    "plt.show()"
   ]
  },
  {
   "cell_type": "markdown",
   "metadata": {},
   "source": [
    "# Preliminaries\n",
    "## Cities selection\n",
    "We are going to select 3 more cities in France, to study the weather in different regions.\n",
    "\n",
    "We chose:\n",
    "- Strasbourg (48.58° N, 7.75° E);\n",
    "- Nice (43.70° N, 7.26° E);\n",
    "- Brest (48.39° N, 4.48° W);"
   ]
  },
  {
   "cell_type": "code",
   "execution_count": null,
   "metadata": {},
   "outputs": [],
   "source": [
    "def find_closest_point(x: float, y: float, df: pd.DataFrame) -> Dict[str, float | str]:\n",
    "    \"\"\"Get the closest point to the given coordinates in the given dataframe.\n",
    "\n",
    "    Args:\n",
    "        x (float): longitude\n",
    "        y (float): lattitude\n",
    "        df (pd.DataFrame): dataframe with columns Longitude and Lattitude\n",
    "\n",
    "    Returns:\n",
    "        dict[str, float | str]: closest point\n",
    "    \"\"\"\n",
    "    distances = np.sqrt((df[\"Longitude\"] - x) ** 2 + (df[\"Lattitude\"] - y) ** 2)\n",
    "    return df.iloc[np.argmin(distances)].to_dict()\n",
    "\n",
    "\n",
    "strasbourg = find_closest_point(48.5734053, 7.7521113, gps_df)\n",
    "print(\"Strasbourg:\", (strasbourg[\"Longitude\"], strasbourg[\"Lattitude\"]))\n",
    "nice = find_closest_point(43.7009358, 7.2683912, gps_df)\n",
    "print(\"Nice:\", (nice[\"Longitude\"], nice[\"Lattitude\"]))\n",
    "brest = find_closest_point(48.390528, -4.486008, gps_df)\n",
    "print(\"Brest:\", (brest[\"Longitude\"], brest[\"Lattitude\"]))"
   ]
  },
  {
   "cell_type": "code",
   "execution_count": null,
   "metadata": {},
   "outputs": [],
   "source": [
    "fig = plt.figure(figsize=(20, 10))\n",
    "ax = fig.add_subplot(1, 2, 1, projection=ccrs.PlateCarree())\n",
    "ax.set_extent([-5, 9, 42, 52])\n",
    "ax.set_title(\"France\")\n",
    "ax.stock_img()\n",
    "\n",
    "x, y = 2.217999, 48.512381\n",
    "ax.plot(x, y, \"r*\", markersize=15)\n",
    "ax.text(x, y, \"Paris\")\n",
    "ax.plot(strasbourg[\"Lattitude\"], strasbourg[\"Longitude\"], \"r*\", markersize=15)\n",
    "ax.text(strasbourg[\"Lattitude\"], strasbourg[\"Longitude\"], \"Strasbourg\")\n",
    "ax.plot(nice[\"Lattitude\"], nice[\"Longitude\"], \"r*\", markersize=15)\n",
    "ax.text(nice[\"Lattitude\"], nice[\"Longitude\"], \"Nice\")\n",
    "ax.plot(brest[\"Lattitude\"], brest[\"Longitude\"], \"r*\", markersize=15)\n",
    "ax.text(brest[\"Lattitude\"], brest[\"Longitude\"], \"Brest\")\n",
    "plt.show()"
   ]
  },
  {
   "cell_type": "markdown",
   "metadata": {},
   "source": [
    "We are now going to plot the evolution of temperature and wind in these cities, across one year."
   ]
  },
  {
   "cell_type": "code",
   "execution_count": null,
   "metadata": {},
   "outputs": [],
   "source": [
    "plt.figure(figsize=(20, 10))\n",
    "plt.title(f\"Temperature\")\n",
    "plt.xlabel(\"Time\")\n",
    "plt.ylabel(\"Temperature\")\n",
    "for dict, names in zip((strasbourg, nice, brest), (\"Strasbourg\", \"Nice\", \"Brest\")):\n",
    "    wind_id = dict[\"Wind ID\"]\n",
    "    temp_id = dict[\"Temp ID\"]\n",
    "    plt.plot(temp_df.columns, temp_df.loc[temp_id, :], label=names)\n",
    "\n",
    "plt.legend()\n",
    "plt.show()"
   ]
  },
  {
   "cell_type": "code",
   "execution_count": null,
   "metadata": {},
   "outputs": [],
   "source": [
    "plt.figure(figsize=(20, 10))\n",
    "plt.title(f\"Wind\")\n",
    "plt.xlabel(\"Time\")\n",
    "plt.ylabel(\"Wind speed\")\n",
    "for dict, names in zip((strasbourg, nice, brest), (\"Strasbourg\", \"Nice\", \"Brest\")):\n",
    "    wind_id = dict[\"Wind ID\"]\n",
    "    temp_id = dict[\"Temp ID\"]\n",
    "    plt.plot(wind_df.columns, wind_df.loc[wind_id, :], label=names)\n",
    "\n",
    "plt.legend()\n",
    "plt.show()"
   ]
  },
  {
   "cell_type": "markdown",
   "metadata": {},
   "source": [
    "## Clustering using these cities\n",
    "We are going to cluster the cities in France, using the temperature and wind data.\n",
    "We will use 2 different clustering algorithms:\n",
    "- K-means;\n",
    "- hierarchical clustering.\n",
    "### K-means\n",
    "We will use $K=4$ for the number of clusters."
   ]
  },
  {
   "cell_type": "code",
   "execution_count": null,
   "metadata": {},
   "outputs": [],
   "source": [
    "k_means_wind, k_means_temp = KMeans(n_clusters=4), KMeans(n_clusters=4)\n",
    "k_means_wind.fit(wind_df.T)\n",
    "k_means_temp.fit(temp_df.T)\n",
    "\n",
    "print(\"Wind clusters:\", k_means_wind.cluster_centers_)\n",
    "print(\"Temperature clusters:\", k_means_temp.cluster_centers_)"
   ]
  }
 ],
 "metadata": {
  "kernelspec": {
   "display_name": "Python 3",
   "language": "python",
   "name": "python3"
  },
  "language_info": {
   "codemirror_mode": {
    "name": "ipython",
    "version": 3
   },
   "file_extension": ".py",
   "mimetype": "text/x-python",
   "name": "python",
   "nbconvert_exporter": "python",
   "pygments_lexer": "ipython3",
   "version": "3.12.1"
  }
 },
 "nbformat": 4,
 "nbformat_minor": 2
}
