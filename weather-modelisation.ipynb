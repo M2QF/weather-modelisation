{
 "cells": [
  {
   "cell_type": "markdown",
   "metadata": {},
   "source": [
    "# Students\n",
    "- GHAITH Sarahnour (M2QF & ENSIIE)\n",
    "- ROISEUX Thomas (M2QF & ENSIIE)\n",
    "\n",
    "# Introduction\n",
    "## Context\n",
    "\n",
    "The goal of this project is to study \n",
    "the temporal evolution of temperature and wind in France, across one year.\n",
    "\n",
    "## Required packages\n",
    "- `pandas` : to manipulate dataframes.\n",
    "- `numpy` : to manipulate arrays.\n",
    "- `matplotlib` : to plot graphs.\n",
    "- `cartopy` : to plot maps.\n",
    "- `IPython` : to display dataframes in Jupyter Notebook.\n",
    "- `scikit-learn` : to use machine learning algorithms."
   ]
  },
  {
   "cell_type": "code",
   "execution_count": null,
   "metadata": {},
   "outputs": [],
   "source": [
    "import pandas as pd\n",
    "import numpy as np\n",
    "import matplotlib.pyplot as plt\n",
    "import cartopy.crs as ccrs\n",
    "import cartopy.feature as cfeature\n",
    "from datetime import datetime, timedelta\n",
    "from typing import Dict\n",
    "\n",
    "from IPython.display import display\n",
    "\n",
    "from sklearn.cluster import KMeans, AgglomerativeClustering\n",
    "from sklearn.decomposition import PCA"
   ]
  },
  {
   "cell_type": "markdown",
   "metadata": {},
   "source": [
    "## Data importation\n",
    "### Preparing GPS dataframe"
   ]
  },
  {
   "cell_type": "code",
   "execution_count": null,
   "metadata": {},
   "outputs": [],
   "source": [
    "gps_df = pd.read_csv(\"dataGPS.csv\", header=None, sep=\";\")\n",
    "gps_df.columns = [\"ID\", \"Lattitude\", \"Longitude\"]\n",
    "gps_df[\"ID\"] = gps_df[\"ID\"].str.replace(\"TEMP\", \"\")\n",
    "gps_df.set_index(\"ID\", inplace=True)\n",
    "\n",
    "display(gps_df.head())"
   ]
  },
  {
   "cell_type": "markdown",
   "metadata": {},
   "source": [
    "### Preparing temperature dataframe and wind dataframe"
   ]
  },
  {
   "cell_type": "code",
   "execution_count": null,
   "metadata": {},
   "outputs": [],
   "source": [
    "year = 2019\n",
    "hours = [datetime(year, 1, 1, 0, 0, 0) + timedelta(hours=i) for i in range(8760)]"
   ]
  },
  {
   "cell_type": "code",
   "execution_count": null,
   "metadata": {},
   "outputs": [],
   "source": [
    "temp_df = pd.read_csv(\"dataTemp.csv\", header=None, sep=\";\", index_col=0)\n",
    "temp_df.index.name = \"ID\"\n",
    "for key in temp_df.index:\n",
    "    temp_df.rename(index={key: key.replace(\"TEMP\", \"\")}, inplace=True)\n",
    "temp_df.columns = hours\n",
    "\n",
    "\n",
    "display(temp_df.head())\n",
    "\n",
    "\n",
    "wind_df = pd.read_csv(\"dataWind.csv\", header=None, sep=\";\", index_col=0)\n",
    "wind_df.index.name = \"ID\"\n",
    "for key in wind_df.index:\n",
    "    wind_df.rename(index={key: key.replace(\"VVENT\", \"\")}, inplace=True)\n",
    "wind_df.columns = hours\n",
    "\n",
    "\n",
    "display(wind_df.head())"
   ]
  },
  {
   "cell_type": "markdown",
   "metadata": {},
   "source": [
    "## Example: weather in Paris\n",
    "We are goinng to study the weather in Paris, the capital of France, as an example.\n",
    "It is located at 48.51° N, 2.21° E.\n",
    "\n",
    "Let's firstplace in on a map."
   ]
  },
  {
   "cell_type": "code",
   "execution_count": null,
   "metadata": {},
   "outputs": [],
   "source": [
    "fig = plt.figure(figsize=(20, 10))\n",
    "ax = fig.add_subplot(1, 2, 1, projection=ccrs.PlateCarree())\n",
    "ax.set_extent([-5, 9, 42, 52])\n",
    "ax.set_title(\"France\")\n",
    "ax.stock_img()\n",
    "\n",
    "x, y = 2.217999, 48.512381\n",
    "ax.plot(x, y, \"r*\", markersize=15)\n",
    "ax.text(x, y, \"Paris\")\n",
    "plt.show()"
   ]
  },
  {
   "cell_type": "markdown",
   "metadata": {},
   "source": [
    "Now, we are going to plot the evolution of temperature and wind in Paris, across one year."
   ]
  },
  {
   "cell_type": "code",
   "execution_count": null,
   "metadata": {},
   "outputs": [],
   "source": [
    "plt.figure(figsize=(20, 10))\n",
    "plt.title(\"Temperature in Paris\")\n",
    "plt.plot(temp_df.columns, temp_df.iloc[33, :], color=\"blue\")\n",
    "plt.show()"
   ]
  },
  {
   "cell_type": "code",
   "execution_count": null,
   "metadata": {},
   "outputs": [],
   "source": [
    "plt.figure(figsize=(20, 10))\n",
    "plt.title(\"Wind in Paris\")\n",
    "plt.plot(wind_df.columns, wind_df.iloc[33, :], color=\"blue\")\n",
    "plt.show()"
   ]
  },
  {
   "cell_type": "markdown",
   "metadata": {},
   "source": [
    "# Preliminaries\n",
    "## Cities selection\n",
    "We are going to select 3 more cities in France, to study the weather in different regions.\n",
    "\n",
    "We chose:\n",
    "- Strasbourg (48.58° N, 7.75° E);\n",
    "- Nice (43.70° N, 7.26° E);\n",
    "- Brest (48.39° N, 4.48° W);"
   ]
  },
  {
   "cell_type": "code",
   "execution_count": null,
   "metadata": {},
   "outputs": [],
   "source": [
    "def find_closest_point(x: float, y: float, df: pd.DataFrame) -> Dict[str, float | str]:\n",
    "    \"\"\"Get the closest point to the given coordinates in the given dataframe.\n",
    "\n",
    "    Args:\n",
    "        x (float): longitude\n",
    "        y (float): lattitude\n",
    "        df (pd.DataFrame): dataframe with columns Longitude and Lattitude\n",
    "\n",
    "    Returns:\n",
    "        dict[str, float | str]: closest point\n",
    "    \"\"\"\n",
    "    distances = np.sqrt((df[\"Longitude\"] - x) ** 2 + (df[\"Lattitude\"] - y) ** 2)\n",
    "    dic = df.iloc[np.argmin(distances)].to_dict()\n",
    "    dic[\"ID\"] = df.index[np.argmin(distances)]\n",
    "    return dic\n",
    "\n",
    "\n",
    "strasbourg = find_closest_point(48.5734053, 7.7521113, gps_df)\n",
    "print(\"Strasbourg:\", (strasbourg[\"Longitude\"], strasbourg[\"Lattitude\"]))\n",
    "nice = find_closest_point(43.7009358, 7.2683912, gps_df)\n",
    "print(\"Nice:\", (nice[\"Longitude\"], nice[\"Lattitude\"]))\n",
    "brest = find_closest_point(48.390528, -4.486008, gps_df)\n",
    "print(\"Brest:\", (brest[\"Longitude\"], brest[\"Lattitude\"]))"
   ]
  },
  {
   "cell_type": "code",
   "execution_count": null,
   "metadata": {},
   "outputs": [],
   "source": [
    "fig = plt.figure(figsize=(20, 10))\n",
    "ax = fig.add_subplot(1, 2, 1, projection=ccrs.PlateCarree())\n",
    "ax.set_extent([-5, 9, 42, 52])\n",
    "ax.set_title(\"France\")\n",
    "ax.stock_img()\n",
    "\n",
    "x, y = 2.217999, 48.512381\n",
    "ax.plot(x, y, \"r*\", markersize=15)\n",
    "ax.text(x, y, \"Paris\")\n",
    "ax.plot(strasbourg[\"Lattitude\"], strasbourg[\"Longitude\"], \"r*\", markersize=15)\n",
    "ax.text(strasbourg[\"Lattitude\"], strasbourg[\"Longitude\"], \"Strasbourg\")\n",
    "ax.plot(nice[\"Lattitude\"], nice[\"Longitude\"], \"r*\", markersize=15)\n",
    "ax.text(nice[\"Lattitude\"], nice[\"Longitude\"], \"Nice\")\n",
    "ax.plot(brest[\"Lattitude\"], brest[\"Longitude\"], \"r*\", markersize=15)\n",
    "ax.text(brest[\"Lattitude\"], brest[\"Longitude\"], \"Brest\")\n",
    "plt.show()"
   ]
  },
  {
   "cell_type": "markdown",
   "metadata": {},
   "source": [
    "We are now going to plot the evolution of temperature and wind in these cities, across one year."
   ]
  },
  {
   "cell_type": "code",
   "execution_count": null,
   "metadata": {},
   "outputs": [],
   "source": [
    "plt.figure(figsize=(20, 10))\n",
    "plt.title(f\"Temperature\")\n",
    "plt.xlabel(\"Time\")\n",
    "plt.ylabel(\"Temperature\")\n",
    "for dict, names in zip((strasbourg, nice, brest), (\"Strasbourg\", \"Nice\", \"Brest\")):\n",
    "    wind_id = dict[\"ID\"]\n",
    "    temp_id = dict[\"ID\"]\n",
    "    plt.plot(temp_df.columns, temp_df.loc[temp_id, :], label=names)\n",
    "\n",
    "plt.legend()\n",
    "plt.show()"
   ]
  },
  {
   "cell_type": "code",
   "execution_count": null,
   "metadata": {},
   "outputs": [],
   "source": [
    "plt.figure(figsize=(20, 10))\n",
    "plt.title(f\"Wind\")\n",
    "plt.xlabel(\"Time\")\n",
    "plt.ylabel(\"Wind speed\")\n",
    "for dict, names in zip((strasbourg, nice, brest), (\"Strasbourg\", \"Nice\", \"Brest\")):\n",
    "    wind_id = dict[\"ID\"]\n",
    "    temp_id = dict[\"ID\"]\n",
    "    plt.plot(wind_df.columns, wind_df.loc[wind_id, :], label=names)\n",
    "\n",
    "plt.legend()\n",
    "plt.show()"
   ]
  },
  {
   "cell_type": "markdown",
   "metadata": {},
   "source": [
    "## Clustering\n",
    "We are going to cluster the cities in France, using the temperature and wind data.\n",
    "We will use 2 different clustering algorithms:\n",
    "- $K$-means;\n",
    "- hierarchical clustering.\n",
    "### $K$-means\n",
    "We will use $K=4$ for the number of clusters."
   ]
  },
  {
   "cell_type": "code",
   "execution_count": null,
   "metadata": {},
   "outputs": [],
   "source": [
    "k_means_wind, k_means_temp = KMeans(n_clusters=4), KMeans(n_clusters=4)\n",
    "k_means_wind.fit(wind_df)\n",
    "k_means_temp.fit(temp_df)\n",
    "\n",
    "print(\"Wind clusters:\", k_means_wind.cluster_centers_)\n",
    "print(\"Temperature clusters:\", k_means_temp.cluster_centers_)\n",
    "\n",
    "classifications = pd.DataFrame(\n",
    "    k_means_wind.predict(wind_df), index=wind_df.index, columns=[\"K Wind\"]\n",
    ")\n",
    "classifications[\"K Temperature\"] = k_means_temp.predict(temp_df)\n",
    "\n",
    "display(classifications.head())"
   ]
  },
  {
   "cell_type": "markdown",
   "metadata": {},
   "source": [
    "We are going to plot the clusters on a map, first for the wind."
   ]
  },
  {
   "cell_type": "code",
   "execution_count": null,
   "metadata": {},
   "outputs": [],
   "source": [
    "fig = plt.figure(figsize=(20, 10))\n",
    "ax = fig.add_subplot(1, 2, 1, projection=ccrs.PlateCarree())\n",
    "ax.set_extent([-5, 9, 42, 52])\n",
    "ax.set_title(\"France\")\n",
    "ax.stock_img()\n",
    "\n",
    "plt.scatter(\n",
    "    gps_df[\"Lattitude\"],\n",
    "    gps_df[\"Longitude\"],\n",
    "    c=classifications[\"K Wind\"],\n",
    "    cmap=\"viridis\",\n",
    "    transform=ccrs.PlateCarree(),\n",
    ")\n",
    "plt.show()"
   ]
  },
  {
   "cell_type": "markdown",
   "metadata": {},
   "source": [
    "Now we are going to do the same for the temperature."
   ]
  },
  {
   "cell_type": "code",
   "execution_count": null,
   "metadata": {},
   "outputs": [],
   "source": [
    "fig = plt.figure(figsize=(20, 10))\n",
    "ax = fig.add_subplot(1, 2, 1, projection=ccrs.PlateCarree())\n",
    "ax.set_extent([-5, 9, 42, 52])\n",
    "ax.set_title(\"France\")\n",
    "ax.stock_img()\n",
    "\n",
    "plt.scatter(\n",
    "    gps_df[\"Lattitude\"],\n",
    "    gps_df[\"Longitude\"],\n",
    "    c=classifications[\"K Temperature\"],\n",
    "    cmap=\"viridis\",\n",
    "    transform=ccrs.PlateCarree(),\n",
    ")\n",
    "plt.show()"
   ]
  },
  {
   "cell_type": "markdown",
   "metadata": {},
   "source": [
    "### Hierarchical clustering\n",
    "After using the $K$-means algorithm, we are going to use hierarchical clustering, with the same number of clusters."
   ]
  },
  {
   "cell_type": "code",
   "execution_count": null,
   "metadata": {},
   "outputs": [],
   "source": [
    "agg_wind, agg_temp = AgglomerativeClustering(n_clusters=4), AgglomerativeClustering(\n",
    "    n_clusters=4\n",
    ")\n",
    "agg_wind = agg_wind.fit(wind_df)\n",
    "agg_temp = agg_temp.fit(temp_df)\n",
    "\n",
    "classifications[\"A Wind\"] = agg_wind.labels_\n",
    "classifications[\"A Temperature\"] = agg_temp.labels_\n",
    "\n",
    "display(classifications.head())"
   ]
  },
  {
   "cell_type": "markdown",
   "metadata": {},
   "source": [
    "We are going to plot the clusters on a map, first for the wind."
   ]
  },
  {
   "cell_type": "code",
   "execution_count": null,
   "metadata": {},
   "outputs": [],
   "source": [
    "fig = plt.figure(figsize=(20, 10))\n",
    "ax = fig.add_subplot(1, 2, 1, projection=ccrs.PlateCarree())\n",
    "ax.set_extent([-5, 9, 42, 52])\n",
    "ax.set_title(\"France\")\n",
    "ax.stock_img()\n",
    "\n",
    "plt.scatter(\n",
    "    gps_df[\"Lattitude\"],\n",
    "    gps_df[\"Longitude\"],\n",
    "    c=classifications[\"A Wind\"],\n",
    "    cmap=\"viridis\",\n",
    "    transform=ccrs.PlateCarree(),\n",
    ")\n",
    "plt.show()"
   ]
  },
  {
   "cell_type": "markdown",
   "metadata": {},
   "source": [
    "And now for the temperature."
   ]
  },
  {
   "cell_type": "code",
   "execution_count": null,
   "metadata": {},
   "outputs": [],
   "source": [
    "fig = plt.figure(figsize=(20, 10))\n",
    "ax = fig.add_subplot(1, 2, 1, projection=ccrs.PlateCarree())\n",
    "ax.set_extent([-5, 9, 42, 52])\n",
    "ax.set_title(\"France\")\n",
    "ax.stock_img()\n",
    "\n",
    "plt.scatter(\n",
    "    gps_df[\"Lattitude\"],\n",
    "    gps_df[\"Longitude\"],\n",
    "    c=classifications[\"K Temperature\"],\n",
    "    cmap=\"viridis\",\n",
    "    transform=ccrs.PlateCarree(),\n",
    ")\n",
    "plt.show()"
   ]
  },
  {
   "cell_type": "markdown",
   "metadata": {},
   "source": [
    "## Average clustering\n",
    "We are going to compute the average of the temperature and wind data, for each city, then classify the cities using the average data.\n",
    "### $K$-means"
   ]
  },
  {
   "cell_type": "code",
   "execution_count": null,
   "metadata": {},
   "outputs": [],
   "source": [
    "averages = (wind_df + temp_df) / 2"
   ]
  },
  {
   "cell_type": "code",
   "execution_count": null,
   "metadata": {},
   "outputs": [],
   "source": [
    "k_means = KMeans(n_clusters=4)\n",
    "k_means.fit(wind_df)\n",
    "\n",
    "print(\"Clusters:\", k_means.cluster_centers_)\n",
    "\n",
    "classifications[\"K Average\"] = k_means.predict(averages)\n",
    "\n",
    "display(classifications.head())"
   ]
  },
  {
   "cell_type": "code",
   "execution_count": null,
   "metadata": {},
   "outputs": [],
   "source": [
    "fig = plt.figure(figsize=(20, 10))\n",
    "ax = fig.add_subplot(1, 2, 1, projection=ccrs.PlateCarree())\n",
    "ax.set_extent([-5, 9, 42, 52])\n",
    "ax.set_title(\"France\")\n",
    "ax.stock_img()\n",
    "\n",
    "plt.scatter(\n",
    "    gps_df[\"Lattitude\"],\n",
    "    gps_df[\"Longitude\"],\n",
    "    c=classifications[\"K Average\"],\n",
    "    cmap=\"viridis\",\n",
    "    transform=ccrs.PlateCarree(),\n",
    ")\n",
    "plt.show()"
   ]
  },
  {
   "cell_type": "markdown",
   "metadata": {},
   "source": [
    "### Hierarchical clustering"
   ]
  },
  {
   "cell_type": "code",
   "execution_count": null,
   "metadata": {},
   "outputs": [],
   "source": [
    "k_means = AgglomerativeClustering(n_clusters=4)\n",
    "k_means.fit(wind_df)\n",
    "\n",
    "classifications[\"A Average\"] = k_means.labels_\n",
    "\n",
    "display(classifications.head())"
   ]
  },
  {
   "cell_type": "code",
   "execution_count": null,
   "metadata": {},
   "outputs": [],
   "source": [
    "fig = plt.figure(figsize=(20, 10))\n",
    "ax = fig.add_subplot(1, 2, 1, projection=ccrs.PlateCarree())\n",
    "ax.set_extent([-5, 9, 42, 52])\n",
    "ax.set_title(\"France\")\n",
    "ax.stock_img()\n",
    "\n",
    "plt.scatter(\n",
    "    gps_df[\"Lattitude\"],\n",
    "    gps_df[\"Longitude\"],\n",
    "    c=classifications[\"A Average\"],\n",
    "    cmap=\"viridis\",\n",
    "    transform=ccrs.PlateCarree(),\n",
    ")\n",
    "plt.show()"
   ]
  },
  {
   "cell_type": "markdown",
   "metadata": {},
   "source": [
    "### Conclusion\n",
    "Fortunately, this algorithm is considered as \"naive\", as computing the average between wind and temperature is not relevant, and so is the resuling classification.\n",
    "# Wind clustering\n",
    "We are now going to cluster only wind data, but we will use new algorithms.\n",
    "## Raw data\n",
    "Using the raw time series, this was done in the previous part, under the title \"Clustering\".\n",
    "Here is the resulting plot as a reminder."
   ]
  },
  {
   "cell_type": "code",
   "execution_count": null,
   "metadata": {},
   "outputs": [],
   "source": [
    "fig = plt.figure(figsize=(20, 10))\n",
    "ax = fig.add_subplot(1, 2, 1, projection=ccrs.PlateCarree())\n",
    "ax.set_extent([-5, 9, 42, 52])\n",
    "ax.set_title(\"France\")\n",
    "ax.stock_img()\n",
    "\n",
    "plt.scatter(\n",
    "    gps_df[\"Lattitude\"],\n",
    "    gps_df[\"Longitude\"],\n",
    "    c=classifications[\"K Wind\"],\n",
    "    cmap=\"viridis\",\n",
    "    transform=ccrs.PlateCarree(),\n",
    ")\n",
    "plt.show()"
   ]
  },
  {
   "cell_type": "markdown",
   "metadata": {},
   "source": [
    "We therefore notice that the wind categories are not very relevant, and seems related to the different climates in France.\n",
    "## Principal component analysis\n",
    "We will now perform a principal component analysis on the wind data, to reduce the dimension of the data.\n",
    "We have $n=259$ cities and $p=8460$ time stamps.\n",
    "Our goal is to reduce the dimension of the data, while keeping the most relevant information.\n",
    "Each time stamp is separated by only one hour, so we can assume that the data is highly correlated.\n",
    "Keeping all the time stamps would be redundant, so we are going to reduce the dimension of the data: we will keep only the first $k=5$ principal components."
   ]
  },
  {
   "cell_type": "code",
   "execution_count": null,
   "metadata": {},
   "outputs": [],
   "source": [
    "corr_matrix = wind_df.corr()\n",
    "corr_matrix_diff = corr_matrix.diff(axis=1).dropna(axis=1)"
   ]
  },
  {
   "cell_type": "markdown",
   "metadata": {},
   "source": [
    "As we have features that describes the wind hour per hour, we will evaluate the differences of the correlation between the features, as it will give a good idea about the correlatoin between two consecutive time stamps."
   ]
  },
  {
   "cell_type": "code",
   "execution_count": null,
   "metadata": {},
   "outputs": [],
   "source": [
    "print(\"Correlation matrix differences mean:\", corr_matrix_diff.mean().mean())\n",
    "print(\"Correlation matrix differences std:\", corr_matrix_diff.std().std())\n",
    "print(\"Correlation matrix differences min:\", corr_matrix_diff.abs().min().min())\n",
    "print(\"Correlation matrix differences max:\", corr_matrix_diff.abs().max().max())\n",
    "print(\"Correlation matrix differences median:\", corr_matrix_diff.median().median())"
   ]
  },
  {
   "cell_type": "markdown",
   "metadata": {},
   "source": [
    "The statistical information of the correlation matrix is given just above: this shows that the features are highly correlated, as the mean of the differences along the columns is close to $0$.\n",
    "Before doing the PCA, we will do another PCA with all the components, to determine how many ones we must keep in order to keep $95\\,\\%$ of the variance.\n",
    "\n",
    "## Computing the best number of components"
   ]
  },
  {
   "cell_type": "code",
   "execution_count": null,
   "metadata": {},
   "outputs": [],
   "source": [
    "pca = PCA(n_components=200)\n",
    "\n",
    "pca.fit(wind_df)\n",
    "\n",
    "variance_ratio = pca.explained_variance_ratio_\n",
    "\n",
    "cumulative_variance_ratio = np.cumsum(variance_ratio)\n",
    "\n",
    "plt.figure(figsize=(20, 10))\n",
    "plt.title(\"Variance ratio\")\n",
    "plt.plot(cumulative_variance_ratio)\n",
    "plt.xlabel(\"Principal components number\")\n",
    "plt.ylabel(\"Amount of explained variance\")\n",
    "plt.show()\n",
    "\n",
    "print(\n",
    "    \"Minimum number of components to explain 90% of the variance:\",\n",
    "    np.argmax(cumulative_variance_ratio > 0.90) + 1,\n",
    ")\n",
    "print(\n",
    "    \"Minimum number of components to explain 95% of the variance:\",\n",
    "    np.argmax(cumulative_variance_ratio > 0.95) + 1,\n",
    ")\n",
    "print(\n",
    "    \"Minimum number of components to explain 99% of the variance:\",\n",
    "    np.argmax(cumulative_variance_ratio > 0.99) + 1,\n",
    ")"
   ]
  },
  {
   "cell_type": "markdown",
   "metadata": {},
   "source": [
    "As we want to keep at least $95\\,\\%$ of the variance, we will keep the first $k=38$ principal components.\n",
    "As reminder, we had $p=8460$ features, so we reduced the dimension of the data by a factor of $223$."
   ]
  },
  {
   "cell_type": "markdown",
   "metadata": {},
   "source": [
    "## PCA and clustering\n",
    "We are now going to do the PCA with $k=10$ components, and then cluster the data using $K$-means and hierarchical clustering.\n",
    "### PCA"
   ]
  },
  {
   "cell_type": "code",
   "execution_count": null,
   "metadata": {},
   "outputs": [],
   "source": [
    "pca = PCA(n_components=10)\n",
    "pca.fit(wind_df)\n",
    "\n",
    "reduced_wind_df = pd.DataFrame(pca.transform(wind_df), index=wind_df.index)\n",
    "display(reduced_wind_df.head())"
   ]
  }
 ],
 "metadata": {
  "kernelspec": {
   "display_name": "Python 3",
   "language": "python",
   "name": "python3"
  },
  "language_info": {
   "codemirror_mode": {
    "name": "ipython",
    "version": 3
   },
   "file_extension": ".py",
   "mimetype": "text/x-python",
   "name": "python",
   "nbconvert_exporter": "python",
   "pygments_lexer": "ipython3",
   "version": "3.12.1"
  }
 },
 "nbformat": 4,
 "nbformat_minor": 2
}
